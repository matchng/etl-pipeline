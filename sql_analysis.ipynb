{
 "cells": [
  {
   "cell_type": "code",
   "execution_count": 1,
   "id": "a0f86a73-fd39-473a-b6e7-292c9dd97192",
   "metadata": {},
   "outputs": [],
   "source": [
    "# create and connect db\n",
    "import sqlite3, pandas as pd\n",
    "conn = sqlite3.connect(\"etl_pipeline.db\")"
   ]
  },
  {
   "cell_type": "code",
   "execution_count": 2,
   "id": "e09c64bf-2839-4140-859e-6a42efbdee80",
   "metadata": {},
   "outputs": [
    {
     "data": {
      "text/plain": [
       "5"
      ]
     },
     "execution_count": 2,
     "metadata": {},
     "output_type": "execute_result"
    }
   ],
   "source": [
    "master_json_df = pd.read_json(\"cleaned/master.json\")\n",
    "master_json_df.to_sql(\"master\", con=conn, index=False, if_exists=\"replace\") # write master table record into sqlite"
   ]
  },
  {
   "cell_type": "code",
   "execution_count": 3,
   "id": "34a1e09e-fbda-4aff-8905-6c52d3e9fb49",
   "metadata": {},
   "outputs": [
    {
     "data": {
      "text/plain": [
       "user_id                 int64\n",
       "name                   object\n",
       "signup_date            object\n",
       "txn_id                  int64\n",
       "amount                float64\n",
       "timestamp      datetime64[ns]\n",
       "dtype: object"
      ]
     },
     "execution_count": 3,
     "metadata": {},
     "output_type": "execute_result"
    }
   ],
   "source": [
    "master_json_df.dtypes"
   ]
  },
  {
   "cell_type": "code",
   "execution_count": 4,
   "id": "5808bef8-2276-4445-9764-c28434c18aaa",
   "metadata": {},
   "outputs": [
    {
     "data": {
      "text/html": [
       "<div>\n",
       "<style scoped>\n",
       "    .dataframe tbody tr th:only-of-type {\n",
       "        vertical-align: middle;\n",
       "    }\n",
       "\n",
       "    .dataframe tbody tr th {\n",
       "        vertical-align: top;\n",
       "    }\n",
       "\n",
       "    .dataframe thead th {\n",
       "        text-align: right;\n",
       "    }\n",
       "</style>\n",
       "<table border=\"1\" class=\"dataframe\">\n",
       "  <thead>\n",
       "    <tr style=\"text-align: right;\">\n",
       "      <th></th>\n",
       "      <th>user_id</th>\n",
       "      <th>name</th>\n",
       "      <th>total_spend</th>\n",
       "    </tr>\n",
       "  </thead>\n",
       "  <tbody>\n",
       "    <tr>\n",
       "      <th>0</th>\n",
       "      <td>4</td>\n",
       "      <td>Mallory</td>\n",
       "      <td>200.0</td>\n",
       "    </tr>\n",
       "    <tr>\n",
       "      <th>1</th>\n",
       "      <td>1</td>\n",
       "      <td>Alice</td>\n",
       "      <td>195.7</td>\n",
       "    </tr>\n",
       "    <tr>\n",
       "      <th>2</th>\n",
       "      <td>3</td>\n",
       "      <td>Eve</td>\n",
       "      <td>150.0</td>\n",
       "    </tr>\n",
       "    <tr>\n",
       "      <th>3</th>\n",
       "      <td>2</td>\n",
       "      <td>Bob</td>\n",
       "      <td>85.0</td>\n",
       "    </tr>\n",
       "  </tbody>\n",
       "</table>\n",
       "</div>"
      ],
      "text/plain": [
       "   user_id     name  total_spend\n",
       "0        4  Mallory        200.0\n",
       "1        1    Alice        195.7\n",
       "2        3      Eve        150.0\n",
       "3        2      Bob         85.0"
      ]
     },
     "execution_count": 4,
     "metadata": {},
     "output_type": "execute_result"
    }
   ],
   "source": [
    "# SQL query summary: \n",
    "# Total spend per user\n",
    "spend_per_user = pd.read_sql('SELECT user_id, name, SUM(amount) as total_spend FROM master GROUP BY user_id, name ORDER BY total_spend DESC', conn) \n",
    "spend_per_user.head()"
   ]
  },
  {
   "cell_type": "code",
   "execution_count": 5,
   "id": "7178d311-1eef-47ac-9220-d116e61459be",
   "metadata": {},
   "outputs": [
    {
     "data": {
      "text/html": [
       "<div>\n",
       "<style scoped>\n",
       "    .dataframe tbody tr th:only-of-type {\n",
       "        vertical-align: middle;\n",
       "    }\n",
       "\n",
       "    .dataframe tbody tr th {\n",
       "        vertical-align: top;\n",
       "    }\n",
       "\n",
       "    .dataframe thead th {\n",
       "        text-align: right;\n",
       "    }\n",
       "</style>\n",
       "<table border=\"1\" class=\"dataframe\">\n",
       "  <thead>\n",
       "    <tr style=\"text-align: right;\">\n",
       "      <th></th>\n",
       "      <th>year</th>\n",
       "      <th>week</th>\n",
       "      <th>revenue</th>\n",
       "    </tr>\n",
       "  </thead>\n",
       "  <tbody>\n",
       "    <tr>\n",
       "      <th>0</th>\n",
       "      <td>2025</td>\n",
       "      <td>21</td>\n",
       "      <td>120.5</td>\n",
       "    </tr>\n",
       "    <tr>\n",
       "      <th>1</th>\n",
       "      <td>2025</td>\n",
       "      <td>22</td>\n",
       "      <td>310.2</td>\n",
       "    </tr>\n",
       "    <tr>\n",
       "      <th>2</th>\n",
       "      <td>2025</td>\n",
       "      <td>23</td>\n",
       "      <td>200.0</td>\n",
       "    </tr>\n",
       "  </tbody>\n",
       "</table>\n",
       "</div>"
      ],
      "text/plain": [
       "   year week  revenue\n",
       "0  2025   21    120.5\n",
       "1  2025   22    310.2\n",
       "2  2025   23    200.0"
      ]
     },
     "execution_count": 5,
     "metadata": {},
     "output_type": "execute_result"
    }
   ],
   "source": [
    "# Weekly revenue\n",
    "weekly_revenue = pd.read_sql(\"SELECT strftime('%Y', timestamp) as year,\\\n",
    "                                     strftime('%W', timestamp) as week,\\\n",
    "                                     SUM(amount) as revenue\\\n",
    "                                     FROM master\\\n",
    "                              GROUP BY year, week\\\n",
    "                              ORDER BY year, week\", conn)\n",
    "weekly_revenue.head()"
   ]
  },
  {
   "cell_type": "code",
   "execution_count": 6,
   "id": "acf0bc39-33ec-4674-b026-f31145cac5d0",
   "metadata": {},
   "outputs": [
    {
     "data": {
      "text/plain": [
       "5"
      ]
     },
     "execution_count": 6,
     "metadata": {},
     "output_type": "execute_result"
    }
   ],
   "source": [
    "users = pd.read_csv(\"cleaned/users_clean.csv\")\n",
    "users.to_sql(\"users\",con= conn, index=False, if_exists=\"replace\") # Write users records to a SQLite"
   ]
  },
  {
   "cell_type": "code",
   "execution_count": 7,
   "id": "1451b366-b0d4-4f10-a332-18114ea94d01",
   "metadata": {},
   "outputs": [],
   "source": [
    "# Users with no transactions\n",
    "sql_result = pd.read_sql(\"SELECT u.name, COALESCE(m.amount,0) as amount FROM users as u LEFT JOIN master as m ON u.user_id = m.user_id WHERE m.amount IS NULL\", conn)"
   ]
  },
  {
   "cell_type": "code",
   "execution_count": 8,
   "id": "2d1f0809-9092-498e-bd12-b6779d93d865",
   "metadata": {},
   "outputs": [],
   "source": [
    "import os \n",
    "os.makedirs(\"output_summary/\", exist_ok=True)\n",
    "sql_result.to_csv(\"output_summary/users_no_txn.csv\", index=False)"
   ]
  },
  {
   "cell_type": "code",
   "execution_count": null,
   "id": "87a45462-467a-4d85-a3f9-34c5d7983b1f",
   "metadata": {},
   "outputs": [],
   "source": []
  }
 ],
 "metadata": {
  "kernelspec": {
   "display_name": "Python 3 (ipykernel)",
   "language": "python",
   "name": "python3"
  },
  "language_info": {
   "codemirror_mode": {
    "name": "ipython",
    "version": 3
   },
   "file_extension": ".py",
   "mimetype": "text/x-python",
   "name": "python",
   "nbconvert_exporter": "python",
   "pygments_lexer": "ipython3",
   "version": "3.10.5"
  }
 },
 "nbformat": 4,
 "nbformat_minor": 5
}
