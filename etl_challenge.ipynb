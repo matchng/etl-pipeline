{
 "cells": [
  {
   "cell_type": "markdown",
   "id": "be09bb46-57d2-49bd-9607-9ade17fbb3d5",
   "metadata": {},
   "source": [
    "# Fake ETL Pipeline: Pandas Skills Reinforcement\n",
    "\n",
    "**Project Goal:**  \n",
    "Simulate an end-to-end data engineering workflow using synthetic CSV data to practice and showcase core Pandas techniques:\n",
    "- **Data cleaning:** strip whitespace, handle missing values, coerce types  \n",
    "- **Data transformation & reshaping:** `pivot_table` for summary, `melt` for tidy formats  \n",
    "- **Time series handling:** parse and resample date/time fields  \n",
    "- **Type validation:** numeric conversion and date parsing  \n",
    "\n",
    "**Datasets:**  \n",
    "- **`raw_data/users.csv`** – synthetic user profiles (`user_id`, `name`, `signup_date`)  \n",
    "- **`raw_data/transactions.csv`** – synthetic transaction logs (`txn_id`, `user_id`, `amount`, `timestamp`)  \n",
    "\n",
    "Throughout this notebook I will:\n",
    "1. Load & inspect raw data  \n",
    "2. Clean each table (strip, dropna, parse dates, to_numeric)  \n",
    "3. Merge into a master table  \n",
    "4. Produce summary tables (monthly spend per user, weekly revenue)  \n",
    "5. Export cleaned and reshaped outputs under `cleaned/` and `output_summary/`"
   ]
  },
  {
   "cell_type": "code",
   "execution_count": 1,
   "id": "c57d7a98-bc67-4db8-b974-51ba44c6ec44",
   "metadata": {},
   "outputs": [],
   "source": [
    "# Step 1: Import pandas load csv file & inspect \n",
    "import pandas as pd\n",
    "tx_df = pd.read_csv(\"raw_data/transactions.csv\", parse_dates=[\"timestamp\"])\n",
    "users_df = pd.read_csv(\"raw_data/users.csv\", parse_dates=[\"signup_date\"])"
   ]
  },
  {
   "cell_type": "code",
   "execution_count": 2,
   "id": "683b38d9-0f47-4f2b-bfe7-43b7fca20948",
   "metadata": {
    "scrolled": true
   },
   "outputs": [
    {
     "data": {
      "text/html": [
       "<div>\n",
       "<style scoped>\n",
       "    .dataframe tbody tr th:only-of-type {\n",
       "        vertical-align: middle;\n",
       "    }\n",
       "\n",
       "    .dataframe tbody tr th {\n",
       "        vertical-align: top;\n",
       "    }\n",
       "\n",
       "    .dataframe thead th {\n",
       "        text-align: right;\n",
       "    }\n",
       "</style>\n",
       "<table border=\"1\" class=\"dataframe\">\n",
       "  <thead>\n",
       "    <tr style=\"text-align: right;\">\n",
       "      <th></th>\n",
       "      <th>txn_id</th>\n",
       "      <th>user_id</th>\n",
       "      <th>amount</th>\n",
       "      <th>timestamp</th>\n",
       "    </tr>\n",
       "  </thead>\n",
       "  <tbody>\n",
       "    <tr>\n",
       "      <th>0</th>\n",
       "      <td>101</td>\n",
       "      <td>1</td>\n",
       "      <td>120.5</td>\n",
       "      <td>2025-06-01 10:00:00</td>\n",
       "    </tr>\n",
       "    <tr>\n",
       "      <th>1</th>\n",
       "      <td>102</td>\n",
       "      <td>2</td>\n",
       "      <td>85.0</td>\n",
       "      <td>2025-06-05 12:30:00</td>\n",
       "    </tr>\n",
       "    <tr>\n",
       "      <th>2</th>\n",
       "      <td>103</td>\n",
       "      <td>1</td>\n",
       "      <td>75.2</td>\n",
       "      <td>2025-06-07 09:15:00</td>\n",
       "    </tr>\n",
       "    <tr>\n",
       "      <th>3</th>\n",
       "      <td>104</td>\n",
       "      <td>3</td>\n",
       "      <td>150.0</td>\n",
       "      <td>2025-06-08 14:20:00</td>\n",
       "    </tr>\n",
       "    <tr>\n",
       "      <th>4</th>\n",
       "      <td>105</td>\n",
       "      <td>4</td>\n",
       "      <td>200.0</td>\n",
       "      <td>2025-06-10 18:45:00</td>\n",
       "    </tr>\n",
       "  </tbody>\n",
       "</table>\n",
       "</div>"
      ],
      "text/plain": [
       "   txn_id  user_id  amount           timestamp\n",
       "0     101        1   120.5 2025-06-01 10:00:00\n",
       "1     102        2    85.0 2025-06-05 12:30:00\n",
       "2     103        1    75.2 2025-06-07 09:15:00\n",
       "3     104        3   150.0 2025-06-08 14:20:00\n",
       "4     105        4   200.0 2025-06-10 18:45:00"
      ]
     },
     "execution_count": 2,
     "metadata": {},
     "output_type": "execute_result"
    }
   ],
   "source": [
    "# inspect top 5 rows of data\n",
    "tx_df.head()"
   ]
  },
  {
   "cell_type": "code",
   "execution_count": 3,
   "id": "1631bbe6-1ab6-45c3-a853-b553ed8632ac",
   "metadata": {},
   "outputs": [
    {
     "data": {
      "text/html": [
       "<div>\n",
       "<style scoped>\n",
       "    .dataframe tbody tr th:only-of-type {\n",
       "        vertical-align: middle;\n",
       "    }\n",
       "\n",
       "    .dataframe tbody tr th {\n",
       "        vertical-align: top;\n",
       "    }\n",
       "\n",
       "    .dataframe thead th {\n",
       "        text-align: right;\n",
       "    }\n",
       "</style>\n",
       "<table border=\"1\" class=\"dataframe\">\n",
       "  <thead>\n",
       "    <tr style=\"text-align: right;\">\n",
       "      <th></th>\n",
       "      <th>user_id</th>\n",
       "      <th>name</th>\n",
       "      <th>signup_date</th>\n",
       "    </tr>\n",
       "  </thead>\n",
       "  <tbody>\n",
       "    <tr>\n",
       "      <th>0</th>\n",
       "      <td>1</td>\n",
       "      <td>Alice</td>\n",
       "      <td>2025-01-15</td>\n",
       "    </tr>\n",
       "    <tr>\n",
       "      <th>1</th>\n",
       "      <td>2</td>\n",
       "      <td>Bob</td>\n",
       "      <td>2025-02-20</td>\n",
       "    </tr>\n",
       "    <tr>\n",
       "      <th>2</th>\n",
       "      <td>3</td>\n",
       "      <td>Eve</td>\n",
       "      <td>2025-03-12</td>\n",
       "    </tr>\n",
       "    <tr>\n",
       "      <th>3</th>\n",
       "      <td>4</td>\n",
       "      <td>Mallory</td>\n",
       "      <td>2025-04-18</td>\n",
       "    </tr>\n",
       "    <tr>\n",
       "      <th>4</th>\n",
       "      <td>5</td>\n",
       "      <td>Ken</td>\n",
       "      <td>2025-04-20</td>\n",
       "    </tr>\n",
       "  </tbody>\n",
       "</table>\n",
       "</div>"
      ],
      "text/plain": [
       "   user_id     name signup_date\n",
       "0        1    Alice  2025-01-15\n",
       "1        2      Bob  2025-02-20\n",
       "2        3      Eve  2025-03-12\n",
       "3        4  Mallory  2025-04-18\n",
       "4        5     Ken   2025-04-20"
      ]
     },
     "execution_count": 3,
     "metadata": {},
     "output_type": "execute_result"
    }
   ],
   "source": [
    "users_df.head()"
   ]
  },
  {
   "cell_type": "code",
   "execution_count": 4,
   "id": "4576b67f-9348-48f9-9453-786d2bc1552b",
   "metadata": {},
   "outputs": [
    {
     "name": "stdout",
     "output_type": "stream",
     "text": [
      "<class 'pandas.core.frame.DataFrame'>\n",
      "RangeIndex: 5 entries, 0 to 4\n",
      "Data columns (total 4 columns):\n",
      " #   Column     Non-Null Count  Dtype         \n",
      "---  ------     --------------  -----         \n",
      " 0   txn_id     5 non-null      int64         \n",
      " 1   user_id    5 non-null      int64         \n",
      " 2   amount     5 non-null      float64       \n",
      " 3   timestamp  5 non-null      datetime64[ns]\n",
      "dtypes: datetime64[ns](1), float64(1), int64(2)\n",
      "memory usage: 288.0 bytes\n"
     ]
    }
   ],
   "source": [
    "# check any non-null value and datatype, ensure parse_date sucessfully\n",
    "tx_df.info()"
   ]
  },
  {
   "cell_type": "code",
   "execution_count": 5,
   "id": "66e52c74-fca6-4c9a-a598-585340b1969b",
   "metadata": {},
   "outputs": [
    {
     "name": "stdout",
     "output_type": "stream",
     "text": [
      "<class 'pandas.core.frame.DataFrame'>\n",
      "RangeIndex: 7 entries, 0 to 6\n",
      "Data columns (total 3 columns):\n",
      " #   Column       Non-Null Count  Dtype         \n",
      "---  ------       --------------  -----         \n",
      " 0   user_id      7 non-null      int64         \n",
      " 1   name         6 non-null      object        \n",
      " 2   signup_date  7 non-null      datetime64[ns]\n",
      "dtypes: datetime64[ns](1), int64(1), object(1)\n",
      "memory usage: 296.0+ bytes\n"
     ]
    }
   ],
   "source": [
    "users_df.info()"
   ]
  },
  {
   "cell_type": "code",
   "execution_count": 6,
   "id": "f055e2ce-8a4c-4778-81e0-704feca31f0c",
   "metadata": {},
   "outputs": [
    {
     "data": {
      "text/html": [
       "<div>\n",
       "<style scoped>\n",
       "    .dataframe tbody tr th:only-of-type {\n",
       "        vertical-align: middle;\n",
       "    }\n",
       "\n",
       "    .dataframe tbody tr th {\n",
       "        vertical-align: top;\n",
       "    }\n",
       "\n",
       "    .dataframe thead th {\n",
       "        text-align: right;\n",
       "    }\n",
       "</style>\n",
       "<table border=\"1\" class=\"dataframe\">\n",
       "  <thead>\n",
       "    <tr style=\"text-align: right;\">\n",
       "      <th></th>\n",
       "      <th>user_id</th>\n",
       "      <th>name</th>\n",
       "      <th>signup_date</th>\n",
       "    </tr>\n",
       "  </thead>\n",
       "  <tbody>\n",
       "    <tr>\n",
       "      <th>0</th>\n",
       "      <td>1</td>\n",
       "      <td>Alice</td>\n",
       "      <td>2025-01-15</td>\n",
       "    </tr>\n",
       "    <tr>\n",
       "      <th>1</th>\n",
       "      <td>2</td>\n",
       "      <td>Bob</td>\n",
       "      <td>2025-02-20</td>\n",
       "    </tr>\n",
       "    <tr>\n",
       "      <th>2</th>\n",
       "      <td>3</td>\n",
       "      <td>Eve</td>\n",
       "      <td>2025-03-12</td>\n",
       "    </tr>\n",
       "    <tr>\n",
       "      <th>3</th>\n",
       "      <td>4</td>\n",
       "      <td>Mallory</td>\n",
       "      <td>2025-04-18</td>\n",
       "    </tr>\n",
       "    <tr>\n",
       "      <th>4</th>\n",
       "      <td>5</td>\n",
       "      <td>Ken</td>\n",
       "      <td>2025-04-20</td>\n",
       "    </tr>\n",
       "  </tbody>\n",
       "</table>\n",
       "</div>"
      ],
      "text/plain": [
       "   user_id     name signup_date\n",
       "0        1    Alice  2025-01-15\n",
       "1        2      Bob  2025-02-20\n",
       "2        3      Eve  2025-03-12\n",
       "3        4  Mallory  2025-04-18\n",
       "4        5      Ken  2025-04-20"
      ]
     },
     "execution_count": 6,
     "metadata": {},
     "output_type": "execute_result"
    }
   ],
   "source": [
    "# Step 2: Clean Users\n",
    "users_df[\"name\"] = users_df[\"name\"].str.strip() # strip whitespace from name column\n",
    "users_df = users_df.drop_duplicates() # remove any duplicate record\n",
    "users_df = users_df.dropna(subset=['user_id','name']) # remove the record where user_id and name is missing value\n",
    "users_df"
   ]
  },
  {
   "cell_type": "code",
   "execution_count": 7,
   "id": "256884c5-8505-498b-b02e-f80a0fd6096d",
   "metadata": {},
   "outputs": [],
   "source": [
    "# Create \"cleaned\" and \"output_summary\" directories \n",
    "import os \n",
    "os.makedirs(\"cleaned\", exist_ok=True)\n",
    "os.makedirs(\"output_summary\", exist_ok=True)"
   ]
  },
  {
   "cell_type": "code",
   "execution_count": 8,
   "id": "204018e1-7845-4c28-9e7e-118a0ccb5d70",
   "metadata": {},
   "outputs": [],
   "source": [
    "# Export cleaned users dataframe to csv into \"cleaned\" directory\n",
    "users_df.to_csv(\"cleaned/users_clean.csv\", index=False)"
   ]
  },
  {
   "cell_type": "code",
   "execution_count": 9,
   "id": "2a86eb93-b3b0-4076-b0a7-511103a19990",
   "metadata": {},
   "outputs": [
    {
     "data": {
      "text/html": [
       "<div>\n",
       "<style scoped>\n",
       "    .dataframe tbody tr th:only-of-type {\n",
       "        vertical-align: middle;\n",
       "    }\n",
       "\n",
       "    .dataframe tbody tr th {\n",
       "        vertical-align: top;\n",
       "    }\n",
       "\n",
       "    .dataframe thead th {\n",
       "        text-align: right;\n",
       "    }\n",
       "</style>\n",
       "<table border=\"1\" class=\"dataframe\">\n",
       "  <thead>\n",
       "    <tr style=\"text-align: right;\">\n",
       "      <th></th>\n",
       "      <th>txn_id</th>\n",
       "      <th>user_id</th>\n",
       "      <th>amount</th>\n",
       "      <th>timestamp</th>\n",
       "    </tr>\n",
       "  </thead>\n",
       "  <tbody>\n",
       "    <tr>\n",
       "      <th>0</th>\n",
       "      <td>101</td>\n",
       "      <td>1</td>\n",
       "      <td>120.5</td>\n",
       "      <td>2025-06-01 10:00:00</td>\n",
       "    </tr>\n",
       "    <tr>\n",
       "      <th>1</th>\n",
       "      <td>102</td>\n",
       "      <td>2</td>\n",
       "      <td>85.0</td>\n",
       "      <td>2025-06-05 12:30:00</td>\n",
       "    </tr>\n",
       "    <tr>\n",
       "      <th>2</th>\n",
       "      <td>103</td>\n",
       "      <td>1</td>\n",
       "      <td>75.2</td>\n",
       "      <td>2025-06-07 09:15:00</td>\n",
       "    </tr>\n",
       "    <tr>\n",
       "      <th>3</th>\n",
       "      <td>104</td>\n",
       "      <td>3</td>\n",
       "      <td>150.0</td>\n",
       "      <td>2025-06-08 14:20:00</td>\n",
       "    </tr>\n",
       "    <tr>\n",
       "      <th>4</th>\n",
       "      <td>105</td>\n",
       "      <td>4</td>\n",
       "      <td>200.0</td>\n",
       "      <td>2025-06-10 18:45:00</td>\n",
       "    </tr>\n",
       "  </tbody>\n",
       "</table>\n",
       "</div>"
      ],
      "text/plain": [
       "   txn_id  user_id  amount           timestamp\n",
       "0     101        1   120.5 2025-06-01 10:00:00\n",
       "1     102        2    85.0 2025-06-05 12:30:00\n",
       "2     103        1    75.2 2025-06-07 09:15:00\n",
       "3     104        3   150.0 2025-06-08 14:20:00\n",
       "4     105        4   200.0 2025-06-10 18:45:00"
      ]
     },
     "execution_count": 9,
     "metadata": {},
     "output_type": "execute_result"
    }
   ],
   "source": [
    "# Step 3: Clean Transactions\n",
    "tx_df['amount'] = pd.to_numeric(tx_df['amount'], errors='coerce') # convert column \"amount\" to numeric data type, if the data not valid wil change to NaN\n",
    "tx_df = tx_df.drop_duplicates()\n",
    "tx_df = tx_df.dropna(subset=['txn_id', 'user_id','amount'])\n",
    "tx_df"
   ]
  },
  {
   "cell_type": "code",
   "execution_count": 10,
   "id": "713b0ae5-f6ad-4bc8-81a3-dab9c492811f",
   "metadata": {},
   "outputs": [],
   "source": [
    "# export cleaned transactions dataframe to csv\n",
    "tx_df.to_csv('cleaned/transactions_clean.csv', index=False)"
   ]
  },
  {
   "cell_type": "code",
   "execution_count": 11,
   "id": "dd73bf0f-a0ac-481a-a3b7-61887e209c33",
   "metadata": {},
   "outputs": [
    {
     "data": {
      "text/html": [
       "<div>\n",
       "<style scoped>\n",
       "    .dataframe tbody tr th:only-of-type {\n",
       "        vertical-align: middle;\n",
       "    }\n",
       "\n",
       "    .dataframe tbody tr th {\n",
       "        vertical-align: top;\n",
       "    }\n",
       "\n",
       "    .dataframe thead th {\n",
       "        text-align: right;\n",
       "    }\n",
       "</style>\n",
       "<table border=\"1\" class=\"dataframe\">\n",
       "  <thead>\n",
       "    <tr style=\"text-align: right;\">\n",
       "      <th></th>\n",
       "      <th>user_id</th>\n",
       "      <th>name</th>\n",
       "      <th>signup_date</th>\n",
       "      <th>txn_id</th>\n",
       "      <th>amount</th>\n",
       "      <th>timestamp</th>\n",
       "    </tr>\n",
       "  </thead>\n",
       "  <tbody>\n",
       "    <tr>\n",
       "      <th>0</th>\n",
       "      <td>1</td>\n",
       "      <td>Alice</td>\n",
       "      <td>2025-01-15</td>\n",
       "      <td>101</td>\n",
       "      <td>120.5</td>\n",
       "      <td>2025-06-01 10:00:00</td>\n",
       "    </tr>\n",
       "    <tr>\n",
       "      <th>1</th>\n",
       "      <td>1</td>\n",
       "      <td>Alice</td>\n",
       "      <td>2025-01-15</td>\n",
       "      <td>103</td>\n",
       "      <td>75.2</td>\n",
       "      <td>2025-06-07 09:15:00</td>\n",
       "    </tr>\n",
       "    <tr>\n",
       "      <th>2</th>\n",
       "      <td>2</td>\n",
       "      <td>Bob</td>\n",
       "      <td>2025-02-20</td>\n",
       "      <td>102</td>\n",
       "      <td>85.0</td>\n",
       "      <td>2025-06-05 12:30:00</td>\n",
       "    </tr>\n",
       "    <tr>\n",
       "      <th>3</th>\n",
       "      <td>3</td>\n",
       "      <td>Eve</td>\n",
       "      <td>2025-03-12</td>\n",
       "      <td>104</td>\n",
       "      <td>150.0</td>\n",
       "      <td>2025-06-08 14:20:00</td>\n",
       "    </tr>\n",
       "    <tr>\n",
       "      <th>4</th>\n",
       "      <td>4</td>\n",
       "      <td>Mallory</td>\n",
       "      <td>2025-04-18</td>\n",
       "      <td>105</td>\n",
       "      <td>200.0</td>\n",
       "      <td>2025-06-10 18:45:00</td>\n",
       "    </tr>\n",
       "  </tbody>\n",
       "</table>\n",
       "</div>"
      ],
      "text/plain": [
       "   user_id     name signup_date  txn_id  amount           timestamp\n",
       "0        1    Alice  2025-01-15     101   120.5 2025-06-01 10:00:00\n",
       "1        1    Alice  2025-01-15     103    75.2 2025-06-07 09:15:00\n",
       "2        2      Bob  2025-02-20     102    85.0 2025-06-05 12:30:00\n",
       "3        3      Eve  2025-03-12     104   150.0 2025-06-08 14:20:00\n",
       "4        4  Mallory  2025-04-18     105   200.0 2025-06-10 18:45:00"
      ]
     },
     "execution_count": 11,
     "metadata": {},
     "output_type": "execute_result"
    }
   ],
   "source": [
    "# Step 4: Merge cleaned transactions & users df -> master_df \n",
    "df_clean_txn = pd.read_csv(\"cleaned/transactions_clean.csv\", parse_dates=[\"timestamp\"])\n",
    "df_clean_user = pd.read_csv(\"cleaned/users_clean.csv\", parse_dates=[\"signup_date\"])\n",
    "master_df = df_clean_user.merge(df_clean_txn, on=\"user_id\", how=\"inner\" ) # using column user_id to join table (inner join)\n",
    "master_df.head()"
   ]
  },
  {
   "cell_type": "code",
   "execution_count": 12,
   "id": "ffe17a98-3dbe-49e2-a165-3c9af8fa5f8c",
   "metadata": {},
   "outputs": [],
   "source": [
    "# export master dataframe to csv\n",
    "master_df.to_csv(\"cleaned/master.csv\", index=False)"
   ]
  },
  {
   "cell_type": "code",
   "execution_count": 13,
   "id": "4bd0c2c6-cd10-42ee-b147-adb8ee8a9324",
   "metadata": {},
   "outputs": [
    {
     "name": "stdout",
     "output_type": "stream",
     "text": [
      "<class 'pandas.core.frame.DataFrame'>\n",
      "RangeIndex: 5 entries, 0 to 4\n",
      "Data columns (total 6 columns):\n",
      " #   Column       Non-Null Count  Dtype         \n",
      "---  ------       --------------  -----         \n",
      " 0   user_id      5 non-null      int64         \n",
      " 1   name         5 non-null      object        \n",
      " 2   signup_date  5 non-null      datetime64[ns]\n",
      " 3   txn_id       5 non-null      int64         \n",
      " 4   amount       5 non-null      float64       \n",
      " 5   timestamp    5 non-null      datetime64[ns]\n",
      "dtypes: datetime64[ns](2), float64(1), int64(2), object(1)\n",
      "memory usage: 368.0+ bytes\n"
     ]
    }
   ],
   "source": [
    "master_df.info()"
   ]
  },
  {
   "cell_type": "code",
   "execution_count": 14,
   "id": "c11363cc-fa4a-4609-84e2-63a717c1c2fe",
   "metadata": {},
   "outputs": [],
   "source": [
    "# Step 5: Summary the data\n",
    "# create users monthly spend pivot table\n",
    "master_df['month'] = master_df['timestamp'].dt.to_period('M') #Create new column \"month\" period\n",
    "usr_monthly_spend_table = master_df.pivot_table(values=\"amount\", index=[\"user_id\",\"name\"], columns=[\"month\"], aggfunc=\"sum\", fill_value=0) "
   ]
  },
  {
   "cell_type": "code",
   "execution_count": 15,
   "id": "3c899828-3d2e-4e2b-b368-9199ab157ed0",
   "metadata": {},
   "outputs": [
    {
     "data": {
      "text/html": [
       "<div>\n",
       "<style scoped>\n",
       "    .dataframe tbody tr th:only-of-type {\n",
       "        vertical-align: middle;\n",
       "    }\n",
       "\n",
       "    .dataframe tbody tr th {\n",
       "        vertical-align: top;\n",
       "    }\n",
       "\n",
       "    .dataframe thead th {\n",
       "        text-align: right;\n",
       "    }\n",
       "</style>\n",
       "<table border=\"1\" class=\"dataframe\">\n",
       "  <thead>\n",
       "    <tr style=\"text-align: right;\">\n",
       "      <th></th>\n",
       "      <th>month</th>\n",
       "      <th>2025-06</th>\n",
       "    </tr>\n",
       "    <tr>\n",
       "      <th>user_id</th>\n",
       "      <th>name</th>\n",
       "      <th></th>\n",
       "    </tr>\n",
       "  </thead>\n",
       "  <tbody>\n",
       "    <tr>\n",
       "      <th>1</th>\n",
       "      <th>Alice</th>\n",
       "      <td>195.7</td>\n",
       "    </tr>\n",
       "    <tr>\n",
       "      <th>2</th>\n",
       "      <th>Bob</th>\n",
       "      <td>85.0</td>\n",
       "    </tr>\n",
       "    <tr>\n",
       "      <th>3</th>\n",
       "      <th>Eve</th>\n",
       "      <td>150.0</td>\n",
       "    </tr>\n",
       "    <tr>\n",
       "      <th>4</th>\n",
       "      <th>Mallory</th>\n",
       "      <td>200.0</td>\n",
       "    </tr>\n",
       "  </tbody>\n",
       "</table>\n",
       "</div>"
      ],
      "text/plain": [
       "month            2025-06\n",
       "user_id name            \n",
       "1       Alice      195.7\n",
       "2       Bob         85.0\n",
       "3       Eve        150.0\n",
       "4       Mallory    200.0"
      ]
     },
     "execution_count": 15,
     "metadata": {},
     "output_type": "execute_result"
    }
   ],
   "source": [
    "usr_monthly_spend_table.reset_index()\n",
    "usr_monthly_spend_table"
   ]
  },
  {
   "cell_type": "code",
   "execution_count": 16,
   "id": "6c7da3e5-574b-4a6b-9073-97494270bbf3",
   "metadata": {},
   "outputs": [],
   "source": [
    "# from wide form change back to long form -> user_id, name, month, total_spend\n",
    "monthly_longform = usr_monthly_spend_table.reset_index().melt(id_vars=[\"user_id\",\"name\"], var_name=\"month\",value_name=\"total_spend\" )"
   ]
  },
  {
   "cell_type": "code",
   "execution_count": 17,
   "id": "2c14b0e9-e113-40fc-bae2-e3735aeb0f4b",
   "metadata": {},
   "outputs": [
    {
     "data": {
      "text/html": [
       "<div>\n",
       "<style scoped>\n",
       "    .dataframe tbody tr th:only-of-type {\n",
       "        vertical-align: middle;\n",
       "    }\n",
       "\n",
       "    .dataframe tbody tr th {\n",
       "        vertical-align: top;\n",
       "    }\n",
       "\n",
       "    .dataframe thead th {\n",
       "        text-align: right;\n",
       "    }\n",
       "</style>\n",
       "<table border=\"1\" class=\"dataframe\">\n",
       "  <thead>\n",
       "    <tr style=\"text-align: right;\">\n",
       "      <th></th>\n",
       "      <th>user_id</th>\n",
       "      <th>name</th>\n",
       "      <th>month</th>\n",
       "      <th>total_spend</th>\n",
       "    </tr>\n",
       "  </thead>\n",
       "  <tbody>\n",
       "    <tr>\n",
       "      <th>0</th>\n",
       "      <td>1</td>\n",
       "      <td>Alice</td>\n",
       "      <td>2025-06</td>\n",
       "      <td>195.7</td>\n",
       "    </tr>\n",
       "    <tr>\n",
       "      <th>1</th>\n",
       "      <td>2</td>\n",
       "      <td>Bob</td>\n",
       "      <td>2025-06</td>\n",
       "      <td>85.0</td>\n",
       "    </tr>\n",
       "    <tr>\n",
       "      <th>2</th>\n",
       "      <td>3</td>\n",
       "      <td>Eve</td>\n",
       "      <td>2025-06</td>\n",
       "      <td>150.0</td>\n",
       "    </tr>\n",
       "    <tr>\n",
       "      <th>3</th>\n",
       "      <td>4</td>\n",
       "      <td>Mallory</td>\n",
       "      <td>2025-06</td>\n",
       "      <td>200.0</td>\n",
       "    </tr>\n",
       "  </tbody>\n",
       "</table>\n",
       "</div>"
      ],
      "text/plain": [
       "   user_id     name    month  total_spend\n",
       "0        1    Alice  2025-06        195.7\n",
       "1        2      Bob  2025-06         85.0\n",
       "2        3      Eve  2025-06        150.0\n",
       "3        4  Mallory  2025-06        200.0"
      ]
     },
     "execution_count": 17,
     "metadata": {},
     "output_type": "execute_result"
    }
   ],
   "source": [
    "monthly_longform"
   ]
  },
  {
   "cell_type": "code",
   "execution_count": 18,
   "id": "a3fafd09-5373-483e-b104-ca75b07dd06f",
   "metadata": {},
   "outputs": [],
   "source": [
    "# set column timestamp to index, using resample method to calculate total revenue per week.\n",
    "weekly_revenue = (\n",
    "    master_df\n",
    "        .set_index(\"timestamp\")[\"amount\"]\n",
    "        .resample('W').sum()\n",
    "        .reset_index(name=\"total_revenue\")\n",
    ")"
   ]
  },
  {
   "cell_type": "code",
   "execution_count": 19,
   "id": "098e499f-d4eb-4674-b4ab-b880a4d05736",
   "metadata": {},
   "outputs": [
    {
     "data": {
      "text/html": [
       "<div>\n",
       "<style scoped>\n",
       "    .dataframe tbody tr th:only-of-type {\n",
       "        vertical-align: middle;\n",
       "    }\n",
       "\n",
       "    .dataframe tbody tr th {\n",
       "        vertical-align: top;\n",
       "    }\n",
       "\n",
       "    .dataframe thead th {\n",
       "        text-align: right;\n",
       "    }\n",
       "</style>\n",
       "<table border=\"1\" class=\"dataframe\">\n",
       "  <thead>\n",
       "    <tr style=\"text-align: right;\">\n",
       "      <th></th>\n",
       "      <th>timestamp</th>\n",
       "      <th>total_revenue</th>\n",
       "    </tr>\n",
       "  </thead>\n",
       "  <tbody>\n",
       "    <tr>\n",
       "      <th>0</th>\n",
       "      <td>2025-06-01</td>\n",
       "      <td>120.5</td>\n",
       "    </tr>\n",
       "    <tr>\n",
       "      <th>1</th>\n",
       "      <td>2025-06-08</td>\n",
       "      <td>310.2</td>\n",
       "    </tr>\n",
       "    <tr>\n",
       "      <th>2</th>\n",
       "      <td>2025-06-15</td>\n",
       "      <td>200.0</td>\n",
       "    </tr>\n",
       "  </tbody>\n",
       "</table>\n",
       "</div>"
      ],
      "text/plain": [
       "   timestamp  total_revenue\n",
       "0 2025-06-01          120.5\n",
       "1 2025-06-08          310.2\n",
       "2 2025-06-15          200.0"
      ]
     },
     "execution_count": 19,
     "metadata": {},
     "output_type": "execute_result"
    }
   ],
   "source": [
    "weekly_revenue"
   ]
  },
  {
   "cell_type": "code",
   "execution_count": 20,
   "id": "8f00ad94-81a9-47c9-ab2e-275ffa95dc83",
   "metadata": {},
   "outputs": [],
   "source": [
    "# Export usr_monthly_spend_table(wide form), monthly_longform(long form), weekly_revenue to csv files\n",
    "\n",
    "usr_monthly_spend_table.to_csv(\"output_summary/user_monthly_spend.csv\")\n",
    "monthly_longform.to_csv(\"output_summary/user_monthly_spend_long.csv\",index=False)\n",
    "weekly_revenue.to_csv(\"output_summary/weekly_revenue.csv\", index=False)                        "
   ]
  },
  {
   "cell_type": "code",
   "execution_count": 21,
   "id": "23186b28-da71-45a6-91e6-d002274116c6",
   "metadata": {},
   "outputs": [
    {
     "name": "stdout",
     "output_type": "stream",
     "text": [
      "   user_id     name signup_date\n",
      "0        1    Alice  2025-01-15\n",
      "1        2      Bob  2025-02-20\n",
      "2        3      Eve  2025-03-12\n",
      "3        4  Mallory  2025-04-18\n",
      "4        5      Ken  2025-04-20\n",
      "user_id                 int64\n",
      "name                   object\n",
      "signup_date    datetime64[ns]\n",
      "dtype: object\n",
      "   txn_id  user_id  amount           timestamp\n",
      "0     101        1   120.5 2025-06-01 10:00:00\n",
      "1     102        2    85.0 2025-06-05 12:30:00\n",
      "2     103        1    75.2 2025-06-07 09:15:00\n",
      "3     104        3   150.0 2025-06-08 14:20:00\n",
      "4     105        4   200.0 2025-06-10 18:45:00\n",
      "txn_id                int64\n",
      "user_id               int64\n",
      "amount              float64\n",
      "timestamp    datetime64[ns]\n",
      "dtype: object\n"
     ]
    }
   ],
   "source": [
    "import json\n",
    "import pandas as pd\n",
    "#1 Load raw json\n",
    "with open(\"raw_data/data.json\", \"r\") as f:\n",
    "    raw = json.load(f)\n",
    "\n",
    "#2 Convert each list of dicts into a DataFrame\n",
    "users_json_df = pd.DataFrame(raw[\"users\"])\n",
    "txn_json_df = pd.DataFrame(raw[\"transactions\"])\n",
    "\n",
    "#3 Clean, parse dates and types\n",
    "users_json_df[\"name\"] = users_json_df[\"name\"].str.strip()\n",
    "users_json_df = users_json_df.replace(\"\", pd.NA).dropna(subset=[\"user_id\", \"name\"])\n",
    "users_json_df = users_json_df.drop_duplicates(subset=[\"user_id\", \"name\"])\n",
    "users_json_df[\"signup_date\"] = pd.to_datetime(users_json_df[\"signup_date\"])\n",
    "txn_json_df[\"timestamp\"] = pd.to_datetime(txn_json_df[\"timestamp\"])\n",
    "txn_json_df[\"amount\"] = pd.to_numeric(txn_json_df[\"amount\"], errors='coerce')\n",
    "txn_json_df = txn_json_df.dropna(subset=[\"txn_id\", \"user_id\", \"amount\"])\n",
    "\n",
    "#4 Inspect\n",
    "print(users_json_df.head(), users_json_df.dtypes, sep=\"\\n\")\n",
    "print(txn_json_df.head(), txn_json_df.dtypes, sep=\"\\n\")"
   ]
  },
  {
   "cell_type": "code",
   "execution_count": 22,
   "id": "55d29e18-d8f3-4a4b-b416-c08a6b21f1c6",
   "metadata": {},
   "outputs": [
    {
     "name": "stdout",
     "output_type": "stream",
     "text": [
      "   user_id     name signup_date  txn_id  amount           timestamp\n",
      "0        1    Alice  2025-01-15     101   120.5 2025-06-01 10:00:00\n",
      "1        1    Alice  2025-01-15     103    75.2 2025-06-07 09:15:00\n",
      "2        2      Bob  2025-02-20     102    85.0 2025-06-05 12:30:00\n",
      "3        3      Eve  2025-03-12     104   150.0 2025-06-08 14:20:00\n",
      "4        4  Mallory  2025-04-18     105   200.0 2025-06-10 18:45:00\n",
      "user_id                 int64\n",
      "name                   object\n",
      "signup_date    datetime64[ns]\n",
      "txn_id                  int64\n",
      "amount                float64\n",
      "timestamp      datetime64[ns]\n",
      "dtype: object\n"
     ]
    }
   ],
   "source": [
    "# Merge users & txn JSON-based DataFrame\n",
    "master_json_df = users_json_df.merge(txn_json_df, on=\"user_id\", how=\"inner\")\n",
    "print(master_json_df.head(), master_json_df.dtypes, sep=\"\\n\")"
   ]
  },
  {
   "cell_type": "code",
   "execution_count": 23,
   "id": "98c00eda-c77b-41d5-8937-21255a2d8051",
   "metadata": {},
   "outputs": [],
   "source": [
    "# Export master JSON-based DataFrame to JSON\n",
    "master_json_df.to_json(\"cleaned/master.json\", orient=\"records\", date_format=\"iso\", indent=4)"
   ]
  },
  {
   "cell_type": "code",
   "execution_count": null,
   "id": "9903d2cf-fe31-43df-9bc8-7f02a1747bab",
   "metadata": {},
   "outputs": [],
   "source": []
  }
 ],
 "metadata": {
  "kernelspec": {
   "display_name": "Python 3 (ipykernel)",
   "language": "python",
   "name": "python3"
  },
  "language_info": {
   "codemirror_mode": {
    "name": "ipython",
    "version": 3
   },
   "file_extension": ".py",
   "mimetype": "text/x-python",
   "name": "python",
   "nbconvert_exporter": "python",
   "pygments_lexer": "ipython3",
   "version": "3.10.5"
  }
 },
 "nbformat": 4,
 "nbformat_minor": 5
}
